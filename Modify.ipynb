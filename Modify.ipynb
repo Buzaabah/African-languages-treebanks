{
 "cells": [
  {
   "cell_type": "code",
   "execution_count": 8,
   "id": "00f43a70-bef8-4736-b4ed-f4ff80b799e9",
   "metadata": {},
   "outputs": [
    {
     "name": "stdout",
     "output_type": "stream",
     "text": [
      "Text length: 6534 characters\n",
      "First 100 characters: ��M\u0000A\u0000S\u0000U\u0000N\u0000G\u0000A\u0000:\u0000 \u0000B\u0000a\u0000g\u0000w\u0000e\u0000b\u0000i\u0000 \u0000b\u0000a\u0000n\u0000g\u0000w\u0000e\u0000 \u0000l\u0000e\u0000 \u0000m\u0000a\u0000p\u0000o\u0000l\u0000o\u0000t\u0000i\u0000k\u0000i\u0000 \u0000a\u0000 \u0000m\u0000o\u0000t\u0000s\u0000e\u0000 \u0000w\u0000a\u0000 \u0000\n",
      "Number of periods in text: 27\n",
      "Found 1 sentences\n",
      "\n",
      "DataFrame created with 1 rows\n",
      "\n",
      "First 3 rows:\n",
      "        sent_id                                               text\n",
      "0  AWI-Tswana_1  ��M\u0000A\u0000S\u0000U\u0000N\u0000G\u0000A\u0000:\u0000 \u0000B\u0000a\u0000g\u0000w\u0000e\u0000b\u0000i\u0000 \u0000b\u0000a\u0000n\u0000g\u0000w\u0000...\n",
      "\n",
      "Last 3 rows:\n",
      "        sent_id                                               text\n",
      "0  AWI-Tswana_1  ��M\u0000A\u0000S\u0000U\u0000N\u0000G\u0000A\u0000:\u0000 \u0000B\u0000a\u0000g\u0000w\u0000e\u0000b\u0000i\u0000 \u0000b\u0000a\u0000n\u0000g\u0000w\u0000...\n",
      "\n",
      "Total number of sentences: 1\n",
      "\n",
      "Saved to Tswana_sentences.csv\n"
     ]
    }
   ],
   "source": [
    "import re\n",
    "import pandas as pd\n",
    "\n",
    "# Open and read the file\n",
    "with open('Tswana_sentence.txt', 'r', encoding='utf-8', errors='replace') as f:\n",
    "    text = f.read()\n",
    "\n",
    "# Print some info about the raw text\n",
    "print(f\"Text length: {len(text)} characters\")\n",
    "print(f\"First 100 characters: {text[:100]}\")\n",
    "print(f\"Number of periods in text: {text.count('.')}\")\n",
    "\n",
    "# A better regex for Tswana text that handles sentence boundaries\n",
    "sentences = re.split(r'(?<=[.!?])\\s+(?=[A-Z])|(?<=[.!?])$|(?<=[\"\"\"])\\s*(?=[A-Z])', text)\n",
    "\n",
    "# Clean up sentences\n",
    "sentences = [s.strip() for s in sentences if s.strip()]\n",
    "\n",
    "# Print some info about what we found\n",
    "print(f\"Found {len(sentences)} sentences\")\n",
    "\n",
    "# Create a list of dictionaries with sentence ID and text\n",
    "data = []\n",
    "for i, sentence in enumerate(sentences, 1):\n",
    "    sent_id = f\"AWI-Tswana_{i}\"\n",
    "    data.append({\"sent_id\": sent_id, \"text\": sentence})\n",
    "\n",
    "# Convert the list to a DataFrame\n",
    "df = pd.DataFrame(data)\n",
    "\n",
    "# Display information about the DataFrame\n",
    "print(f\"\\nDataFrame created with {len(df)} rows\")\n",
    "print(\"\\nFirst 3 rows:\")\n",
    "print(df.head(3))\n",
    "print(\"\\nLast 3 rows:\")\n",
    "print(df.tail(3))\n",
    "\n",
    "# Print the length of the DataFrame\n",
    "print(f\"\\nTotal number of sentences: {len(df)}\")\n",
    "\n",
    "# Export the DataFrame to a CSV file\n",
    "df.to_csv('Tswana_sentences.csv', index=False)\n",
    "print(\"\\nSaved to Tswana_sentences.csv\")"
   ]
  },
  {
   "cell_type": "code",
   "execution_count": 12,
   "id": "59c15772-8d57-48cd-86a7-a87b536b9e0f",
   "metadata": {},
   "outputs": [
    {
     "name": "stdout",
     "output_type": "stream",
     "text": [
      "Data converted to CoNLL-U format and saved to Tswana_conll.txt\n"
     ]
    }
   ],
   "source": [
    "import re\n",
    "\n",
    "input_file = 'Tswana_sentence.txt'\n",
    "output_file = 'Tswana_conll.txt'\n",
    "\n",
    "# Try correct encoding\n",
    "with open(input_file, 'r', encoding='utf-16', errors='replace') as f:\n",
    "    text = f.read()\n",
    "\n",
    "# Split into sentences\n",
    "sentences = re.split(r'(?<=[.!?])\\s+', text)\n",
    "\n",
    "with open(output_file, 'w', encoding='utf-8') as f:\n",
    "    sent_id = 1\n",
    "    for sentence in sentences:\n",
    "        sentence = sentence.strip()\n",
    "        if not sentence:\n",
    "            continue\n",
    "        tokens = sentence.split()\n",
    "        f.write(f\"# sent_id = {sent_id}\\n\")\n",
    "        f.write(f\"# text = {sentence}\\n\")\n",
    "        for idx, token in enumerate(tokens, 1):\n",
    "            # Write 10 columns per line (word-level annotation)\n",
    "            f.write(f\"{idx}\\t{token}\\t_\\t_\\t_\\t_\\t_\\t_\\t_\\t_\\n\")\n",
    "        f.write('\\n')  # Empty line between sentences\n",
    "        sent_id += 1\n",
    "\n",
    "print(f\"Data converted to CoNLL-U format and saved to {output_file}\")\n"
   ]
  },
  {
   "cell_type": "code",
   "execution_count": 10,
   "id": "843ea8be-526c-4acd-98bf-6b838dc773a7",
   "metadata": {},
   "outputs": [
    {
     "name": "stdout",
     "output_type": "stream",
     "text": [
      "<class 'str'>\n"
     ]
    }
   ],
   "source": [
    "print(type(text))"
   ]
  },
  {
   "cell_type": "code",
   "execution_count": null,
   "id": "f01133cc-ba48-4a8a-9f24-9b0507cc04e7",
   "metadata": {},
   "outputs": [],
   "source": []
  }
 ],
 "metadata": {
  "kernelspec": {
   "display_name": "Python (beam_env)",
   "language": "python",
   "name": "beam_env"
  },
  "language_info": {
   "codemirror_mode": {
    "name": "ipython",
    "version": 3
   },
   "file_extension": ".py",
   "mimetype": "text/x-python",
   "name": "python",
   "nbconvert_exporter": "python",
   "pygments_lexer": "ipython3",
   "version": "3.11.11"
  }
 },
 "nbformat": 4,
 "nbformat_minor": 5
}
